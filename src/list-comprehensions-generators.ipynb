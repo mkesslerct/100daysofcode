{
 "cells": [
  {
   "cell_type": "markdown",
   "metadata": {},
   "source": [
    "## First day: list comprehensions and generators"
   ]
  },
  {
   "cell_type": "markdown",
   "metadata": {},
   "source": [
    "> List comprehensions and generators are in my top 5 favorite Python features leading to clean, robust and Pythonic code. "
   ]
  },
  {
   "cell_type": "code",
   "execution_count": 2,
   "metadata": {},
   "outputs": [],
   "source": [
    "from collections import Counter\n",
    "import calendar\n",
    "import itertools\n",
    "import random\n",
    "import re\n",
    "import string\n",
    "\n",
    "import requests"
   ]
  },
  {
   "cell_type": "markdown",
   "metadata": {},
   "source": [
    "### Generators"
   ]
  },
  {
   "cell_type": "markdown",
   "metadata": {},
   "source": [
    "A generator is a function that returns an iterator. It generates values using the `yield` keyword, when called with next() (a for loop does this implicitly), and it raises a `StopIteration` exception when there are no more values to generate. Let's see what this means with a very simple example:"
   ]
  },
  {
   "cell_type": "code",
   "execution_count": 3,
   "metadata": {},
   "outputs": [],
   "source": [
    "def num_gen():\n",
    "    for i in range(5):\n",
    "        yield i\n",
    "        \n",
    "gen = num_gen()"
   ]
  },
  {
   "cell_type": "code",
   "execution_count": 4,
   "metadata": {},
   "outputs": [
    {
     "output_type": "execute_result",
     "data": {
      "text/plain": "0"
     },
     "metadata": {},
     "execution_count": 4
    }
   ],
   "source": [
    "next(gen)"
   ]
  },
  {
   "cell_type": "code",
   "execution_count": null,
   "metadata": {},
   "outputs": [],
   "source": [
    "# note it takes off where we left it last statement\n",
    "for i in gen:\n",
    "    print(i)"
   ]
  },
  {
   "cell_type": "markdown",
   "metadata": {},
   "source": [
    "PRO  tip: [since Python 3.3](https://docs.python.org/3/whatsnew/3.3.html) you can use the `yield from` syntax."
   ]
  },
  {
   "cell_type": "markdown",
   "metadata": {},
   "source": [
    "## Second day: practice"
   ]
  },
  {
   "cell_type": "markdown",
   "metadata": {},
   "source": [
    "Look at your code and see if you can refactor it to use list comprehensions. Same for generators. Are you building up a list somewhere where you could potentially use a generator?"
   ]
  },
  {
   "cell_type": "markdown",
   "metadata": {},
   "source": [
    "And/or exercise here, take this list of names:"
   ]
  },
  {
   "cell_type": "code",
   "execution_count": 6,
   "metadata": {},
   "outputs": [],
   "source": [
    "NAMES = ['arnold schwarzenegger', 'alec baldwin', 'bob belderbos',\n",
    "         'julian sequeira', 'sandra bullock', 'keanu reeves',\n",
    "         'julbob pybites', 'bob belderbos', 'julian sequeira',\n",
    "         'al pacino', 'brad pitt', 'matt damon', 'brad pitt']"
   ]
  },
  {
   "cell_type": "markdown",
   "metadata": {},
   "source": [
    "Can you write a simple list comprehension to convert these names to title case (brad pitt -> Brad Pitt). Or reverse the first and last name? "
   ]
  },
  {
   "cell_type": "code",
   "execution_count": 7,
   "metadata": {},
   "outputs": [
    {
     "output_type": "execute_result",
     "data": {
      "text/plain": "['Schwarzenegger Arnold',\n 'Baldwin Alec',\n 'Belderbos Bob',\n 'Sequeira Julian',\n 'Bullock Sandra',\n 'Reeves Keanu',\n 'Pybites Julbob',\n 'Belderbos Bob',\n 'Sequeira Julian',\n 'Pacino Al',\n 'Pitt Brad',\n 'Damon Matt',\n 'Pitt Brad']"
     },
     "metadata": {},
     "execution_count": 7
    }
   ],
   "source": [
    "[' '.join(reversed(name.title().split())) for name in NAMES]"
   ]
  },
  {
   "cell_type": "markdown",
   "metadata": {},
   "source": [
    "Then use this same list and make a little generator, for example to randomly return a pair of names, try to make this work:\n",
    "\n",
    "    pairs = gen_pairs()\n",
    "    for _ in range(10):\n",
    "        next(pairs)\n",
    "\n",
    "Should print (values might change as random):\n",
    "\n",
    "    Arnold teams up with Brad\n",
    "    Alec teams up with Julian\n",
    "\n",
    "Have fun!"
   ]
  },
  {
   "cell_type": "code",
   "execution_count": 8,
   "metadata": {},
   "outputs": [],
   "source": [
    "first_names = [names.split()[0].title() for names in NAMES]"
   ]
  },
  {
   "cell_type": "code",
   "execution_count": 9,
   "metadata": {},
   "outputs": [
    {
     "output_type": "execute_result",
     "data": {
      "text/plain": "['Arnold', 'Alec', 'Bob']"
     },
     "metadata": {},
     "execution_count": 9
    }
   ],
   "source": [
    "first_names[:3]"
   ]
  },
  {
   "cell_type": "code",
   "execution_count": 32,
   "metadata": {},
   "outputs": [],
   "source": [
    "def gen_pairs():\n",
    "    for _ in first_names:\n",
    "        copy_first_names = first_names[:]\n",
    "        name_1 = copy_first_names.pop(random.randint(0, len(first_names) - 1))\n",
    "        name_2 = random.choice(copy_first_names)       \n",
    "        yield f'{name_1} teams up with {name_2}'"
   ]
  },
  {
   "cell_type": "code",
   "execution_count": 38,
   "metadata": {},
   "outputs": [
    {
     "output_type": "execute_result",
     "data": {
      "text/plain": "'Alec teams up with Julian'"
     },
     "metadata": {},
     "execution_count": 38
    }
   ],
   "source": [
    "next(gen_pairs())"
   ]
  },
  {
   "cell_type": "markdown",
   "metadata": {},
   "source": [
    "## Third day: solution / simulate unix pipelines"
   ]
  },
  {
   "cell_type": "markdown",
   "metadata": {},
   "source": [
    "I hope yesterday's exercise was reasonably doable for you. Here are the answers in case you got stuck:"
   ]
  },
  {
   "cell_type": "code",
   "execution_count": null,
   "metadata": {},
   "outputs": [],
   "source": [
    "# list comprehension to title case names\n",
    "[name.title() for name in NAMES]"
   ]
  },
  {
   "cell_type": "code",
   "execution_count": null,
   "metadata": {},
   "outputs": [],
   "source": [
    "# list comprehension to reverse first and last names\n",
    "# using a helper here to show you that list comprehensions can be passed in functions!\n",
    "\n",
    "def reverse_first_last_names(name):\n",
    "    first, last = name.split()\n",
    "    # ' '.join([last, first]) -- wait we have f-strings now (>= 3.6)\n",
    "    return f'{last} {first}'\n",
    "\n",
    "[reverse_first_last_names(name) for name in NAMES]"
   ]
  },
  {
   "cell_type": "code",
   "execution_count": null,
   "metadata": {},
   "outputs": [],
   "source": [
    "def gen_pairs():\n",
    "    # again a list comprehension is great here to get the first names\n",
    "    # and title case them in just 1 line of code (this comment took 2)\n",
    "    first_names = [name.split()[0].title() for name in NAMES]\n",
    "    while True:\n",
    "        \n",
    "        # added this when I saw Julian teaming up with Julian (always test your code!)\n",
    "        first, second = None, None\n",
    "        while first == second: \n",
    "            first, second = random.sample(first_names, 2)\n",
    "        \n",
    "        yield f'{first} teams up with {second}'"
   ]
  },
  {
   "cell_type": "code",
   "execution_count": null,
   "metadata": {},
   "outputs": [],
   "source": [
    "pairs = gen_pairs()\n",
    "for _ in range(10):\n",
    "    print(next(pairs))"
   ]
  },
  {
   "cell_type": "markdown",
   "metadata": {},
   "source": [
    "Another way to get a slice of a generator is using `itertools.islice`:"
   ]
  },
  {
   "cell_type": "code",
   "execution_count": null,
   "metadata": {},
   "outputs": [],
   "source": [
    "first_ten = itertools.islice(pairs, 10)\n",
    "first_ten"
   ]
  },
  {
   "cell_type": "code",
   "execution_count": null,
   "metadata": {},
   "outputs": [],
   "source": [
    "list(first_ten)"
   ]
  },
  {
   "cell_type": "markdown",
   "metadata": {},
   "source": [
    "### Further practice"
   ]
  },
  {
   "cell_type": "markdown",
   "metadata": {},
   "source": [
    "Read up on set and dict comprehensions, then try these two Bites:\n",
    "- [Bite 5. Parse a list of names](https://codechalleng.es/bites/5/) (use a set comprehension in first function)\n",
    "- [Bite 26. Dictionary comprehensions are awesome](https://codechalleng.es/bites/promo/awesome-dict-comprehensions)"
   ]
  },
  {
   "cell_type": "markdown",
   "metadata": {},
   "source": [
    "Here is a more advanced generators exercise you can try: [Code Challenge 11 - Generators for Fun and Profit](https://codechalleng.es/challenges/11/)"
   ]
  },
  {
   "cell_type": "markdown",
   "metadata": {},
   "source": [
    "### Time to share what you've accomplished!\n",
    "\n",
    "Be sure to share your last couple of days work on Twitter or Facebook. Use the hashtag **#100DaysOfCode**. \n",
    "\n",
    "Here are [some examples](https://twitter.com/search?q=%23100DaysOfCode) to inspire you. Consider including [@talkpython](https://twitter.com/talkpython) and [@pybites](https://twitter.com/pybites) in your tweets.\n",
    "\n",
    "*See a mistake in these instructions? Please [submit a new issue](https://github.com/talkpython/100daysofcode-with-python-course/issues) or fix it and [submit a PR](https://github.com/talkpython/100daysofcode-with-python-course/pulls).*"
   ]
  }
 ],
 "metadata": {
  "kernelspec": {
   "display_name": "Python 3.7.4 64-bit ('mkess': virtualenv)",
   "language": "python",
   "name": "python_defaultSpec_1598199505978"
  },
  "language_info": {
   "codemirror_mode": {
    "name": "ipython",
    "version": 3
   },
   "file_extension": ".py",
   "mimetype": "text/x-python",
   "name": "python",
   "nbconvert_exporter": "python",
   "pygments_lexer": "ipython3",
   "version": "3.7.4-final"
  }
 },
 "nbformat": 4,
 "nbformat_minor": 2
}